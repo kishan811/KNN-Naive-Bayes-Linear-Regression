{
 "cells": [
  {
   "cell_type": "code",
   "execution_count": 1,
   "metadata": {},
   "outputs": [],
   "source": [
    "import numpy as np  \n",
    "import matplotlib.pyplot as plt  \n",
    "import pandas as pd\n",
    "import csv\n",
    "import random\n",
    "import math\n",
    "import sys\n",
    "import operator\n",
    "df = pd.read_csv(\"LoanDataset/data.csv\", skipinitialspace=True)"
   ]
  },
  {
   "cell_type": "code",
   "execution_count": 2,
   "metadata": {},
   "outputs": [
    {
     "name": "stdout",
     "output_type": "stream",
     "text": [
      "Index(['id', 'age', 'expyears', 'annuinc', 'zip', 'famsize', 'avgspend',\n",
      "       'edulevel', 'mortval', 'label', 'security', 'COD', 'netbank', 'CC'],\n",
      "      dtype='object')\n"
     ]
    }
   ],
   "source": [
    "df.columns=['id','age','expyears','annuinc','zip','famsize','avgspend','edulevel','mortval','label','security','COD','netbank','CC']\n",
    "features=df.columns\n",
    "print(features)"
   ]
  },
  {
   "cell_type": "code",
   "execution_count": 3,
   "metadata": {},
   "outputs": [],
   "source": [
    "df=df.drop('id', 1)\n",
    "df=df.drop('zip', 1)"
   ]
  },
  {
   "cell_type": "code",
   "execution_count": 4,
   "metadata": {},
   "outputs": [],
   "source": [
    "from sklearn.model_selection import train_test_split  \n",
    "# X_train, X_test, y_train, y_test = train_test_split(X, y, test_size=0.2) \n",
    "train,test = train_test_split(df, test_size=0.2) \n",
    "# fn=sys.argv[1]\n",
    "# df2=pd.read_csv(fn)\n",
    "# df2.columns=['id','age','expyears','annuinc','zip','famsize','avgspend','edulevel','mortval','label','security','COD','netbank','CC']\n",
    "# test=df2\n",
    "# df"
   ]
  },
  {
   "cell_type": "code",
   "execution_count": 5,
   "metadata": {},
   "outputs": [
    {
     "data": {
      "text/plain": [
       "3599"
      ]
     },
     "execution_count": 5,
     "metadata": {},
     "output_type": "execute_result"
    }
   ],
   "source": [
    "len(train)"
   ]
  },
  {
   "cell_type": "code",
   "execution_count": 6,
   "metadata": {},
   "outputs": [],
   "source": [
    "import math\n",
    "def continuous_prob(x, mean, stdev):\n",
    "    exp = math.exp(-(math.pow(x-mean,2)/(2*math.pow(stdev,2))))\n",
    "    return (1 / (math.sqrt(2*math.pi) * stdev)) * exp"
   ]
  },
  {
   "cell_type": "code",
   "execution_count": 7,
   "metadata": {},
   "outputs": [],
   "source": [
    "import math\n",
    "def mean(numbers):\n",
    "    return sum(numbers)/float(len(numbers))\n",
    " \n",
    "def stddev(numbers):\n",
    "    avg = mean(numbers)\n",
    "    variance = sum([pow(x-avg,2) for x in numbers])/float(len(numbers)-1)\n",
    "    return math.sqrt(variance)"
   ]
  },
  {
   "cell_type": "code",
   "execution_count": 8,
   "metadata": {},
   "outputs": [],
   "source": [
    "# test"
   ]
  },
  {
   "cell_type": "code",
   "execution_count": 9,
   "metadata": {},
   "outputs": [],
   "source": [
    "numerical_attr = ['age','expyears','annuinc','avgspend','edulevel','mortval']\n",
    "categorical_attr = ['famsize','security','COD','netbank','CC']"
   ]
  },
  {
   "cell_type": "code",
   "execution_count": 10,
   "metadata": {},
   "outputs": [],
   "source": [
    "mean={}\n",
    "std_dev={}\n",
    "for i in numerical_attr:\n",
    "    mean[i]={}\n",
    "    std_dev[i]={}\n",
    "    yess=train[train['label']==1][i].mean()\n",
    "    mean[i]['yes']=yess;\n",
    "    noss=train[train['label']==0][i].mean()\n",
    "    mean[i]['no']=noss\n",
    "    posdev=train[train['label']==1][i].std()\n",
    "    std_dev[i]['yes']=posdev\n",
    "    negdev=train[train['label']==0][i].std()\n",
    "    std_dev[i]['no']=negdev;"
   ]
  },
  {
   "cell_type": "code",
   "execution_count": 131,
   "metadata": {},
   "outputs": [],
   "source": [
    "categorical={}\n",
    "for i in categorical_attr:\n",
    "    categorical[i]={}\n",
    "    unique_feature=train[i].unique()\n",
    "    for x in unique_feature:\n",
    "        categorical[i][x]={}\n",
    "#         print(train[train[i]==x])\n",
    "        data=train[train[i]==x]\n",
    "#         print(data)\n",
    "        p=len(train[train['label']==1][i])\n",
    "        q=len(train[train['label']==0][i])\n",
    "        yess=data[data['label']==1][i].count()/p\n",
    "        #print(yes_count)\n",
    "        categorical[i][x]['yes']=yess\n",
    "        noss=data[data['label']==0][i].count()/q\n",
    "        #print(no_count)\n",
    "        categorical[i][x]['no']=noss\n",
    "        \n",
    "    #print(\"new\")   \n",
    "totyes = len(train[train['label']==1])\n",
    "pyess=totyes/len(train);\n",
    "pnoo=1-pyess    "
   ]
  },
  {
   "cell_type": "code",
   "execution_count": null,
   "metadata": {},
   "outputs": [],
   "source": []
  },
  {
   "cell_type": "code",
   "execution_count": 137,
   "metadata": {},
   "outputs": [],
   "source": [
    "pred=[]\n",
    "for index,data in test.iterrows():\n",
    "    pp=1\n",
    "    pn=1\n",
    "    for cat in categorical_attr:\n",
    "#         print(cat)\n",
    "#         print(data[cat])\n",
    "        pp=pp*categorical[cat][data[cat]]['yes']\n",
    "        pp=pn*categorical[cat][data[cat]]['no']\n",
    "    for num in numerical_attr:\n",
    "        mean_y=mean[num]['yes']\n",
    "        std_y=std_dev[num]['yes']\n",
    "        p_pos=continuous_prob(data[num],mean_y,std_y)\n",
    "        pp=pp*p_pos\n",
    "        mean_n=mean[num]['no']\n",
    "        std_n=std_dev[num]['no']\n",
    "        n_nos=continuous_prob(data[num],mean_n,std_n);\n",
    "        pn=pn*n_nos\n",
    "    pp=pp*pyess;\n",
    "    pn=pn*pnoo\n",
    "    if pp>pn:\n",
    "        pred.append(1)\n",
    "    else:\n",
    "        pred.append(0)"
   ]
  },
  {
   "cell_type": "code",
   "execution_count": 138,
   "metadata": {},
   "outputs": [
    {
     "data": {
      "text/plain": [
       "900"
      ]
     },
     "execution_count": 138,
     "metadata": {},
     "output_type": "execute_result"
    }
   ],
   "source": [
    "testlist = test['label'].tolist()\n",
    "len(testlist)"
   ]
  },
  {
   "cell_type": "code",
   "execution_count": 139,
   "metadata": {},
   "outputs": [
    {
     "name": "stdout",
     "output_type": "stream",
     "text": [
      "0.8944444444444445\n"
     ]
    }
   ],
   "source": [
    "count=0\n",
    "for i in range(len(testlist)):\n",
    "    if(testlist[i]==pred[i]):\n",
    "        count+=1\n",
    "ac\n",
    "print () "
   ]
  },
  {
   "cell_type": "code",
   "execution_count": 11,
   "metadata": {},
   "outputs": [
    {
     "data": {
      "text/html": [
       "<div>\n",
       "<style scoped>\n",
       "    .dataframe tbody tr th:only-of-type {\n",
       "        vertical-align: middle;\n",
       "    }\n",
       "\n",
       "    .dataframe tbody tr th {\n",
       "        vertical-align: top;\n",
       "    }\n",
       "\n",
       "    .dataframe thead th {\n",
       "        text-align: right;\n",
       "    }\n",
       "</style>\n",
       "<table border=\"1\" class=\"dataframe\">\n",
       "  <thead>\n",
       "    <tr style=\"text-align: right;\">\n",
       "      <th></th>\n",
       "      <th>age</th>\n",
       "      <th>expyears</th>\n",
       "      <th>annuinc</th>\n",
       "      <th>famsize</th>\n",
       "      <th>avgspend</th>\n",
       "      <th>edulevel</th>\n",
       "      <th>mortval</th>\n",
       "      <th>label</th>\n",
       "      <th>security</th>\n",
       "      <th>COD</th>\n",
       "      <th>netbank</th>\n",
       "      <th>CC</th>\n",
       "    </tr>\n",
       "  </thead>\n",
       "  <tbody>\n",
       "    <tr>\n",
       "      <th>0</th>\n",
       "      <td>31</td>\n",
       "      <td>5</td>\n",
       "      <td>39</td>\n",
       "      <td>4</td>\n",
       "      <td>2.2</td>\n",
       "      <td>2</td>\n",
       "      <td>0</td>\n",
       "      <td>0</td>\n",
       "      <td>0</td>\n",
       "      <td>0</td>\n",
       "      <td>1</td>\n",
       "      <td>1</td>\n",
       "    </tr>\n",
       "    <tr>\n",
       "      <th>1</th>\n",
       "      <td>42</td>\n",
       "      <td>18</td>\n",
       "      <td>54</td>\n",
       "      <td>1</td>\n",
       "      <td>1.8</td>\n",
       "      <td>1</td>\n",
       "      <td>0</td>\n",
       "      <td>0</td>\n",
       "      <td>0</td>\n",
       "      <td>0</td>\n",
       "      <td>1</td>\n",
       "      <td>0</td>\n",
       "    </tr>\n",
       "    <tr>\n",
       "      <th>2</th>\n",
       "      <td>59</td>\n",
       "      <td>35</td>\n",
       "      <td>40</td>\n",
       "      <td>4</td>\n",
       "      <td>0.4</td>\n",
       "      <td>1</td>\n",
       "      <td>0</td>\n",
       "      <td>0</td>\n",
       "      <td>0</td>\n",
       "      <td>0</td>\n",
       "      <td>0</td>\n",
       "      <td>0</td>\n",
       "    </tr>\n",
       "    <tr>\n",
       "      <th>3</th>\n",
       "      <td>38</td>\n",
       "      <td>14</td>\n",
       "      <td>80</td>\n",
       "      <td>2</td>\n",
       "      <td>2.7</td>\n",
       "      <td>1</td>\n",
       "      <td>0</td>\n",
       "      <td>0</td>\n",
       "      <td>0</td>\n",
       "      <td>0</td>\n",
       "      <td>1</td>\n",
       "      <td>0</td>\n",
       "    </tr>\n",
       "    <tr>\n",
       "      <th>4</th>\n",
       "      <td>62</td>\n",
       "      <td>32</td>\n",
       "      <td>19</td>\n",
       "      <td>1</td>\n",
       "      <td>1.5</td>\n",
       "      <td>3</td>\n",
       "      <td>0</td>\n",
       "      <td>0</td>\n",
       "      <td>1</td>\n",
       "      <td>0</td>\n",
       "      <td>0</td>\n",
       "      <td>0</td>\n",
       "    </tr>\n",
       "  </tbody>\n",
       "</table>\n",
       "</div>"
      ],
      "text/plain": [
       "   age  expyears  annuinc  famsize  avgspend  edulevel  mortval  label  \\\n",
       "0   31         5       39        4       2.2         2        0      0   \n",
       "1   42        18       54        1       1.8         1        0      0   \n",
       "2   59        35       40        4       0.4         1        0      0   \n",
       "3   38        14       80        2       2.7         1        0      0   \n",
       "4   62        32       19        1       1.5         3        0      0   \n",
       "\n",
       "   security  COD  netbank  CC  \n",
       "0         0    0        1   1  \n",
       "1         0    0        1   0  \n",
       "2         0    0        0   0  \n",
       "3         0    0        1   0  \n",
       "4         1    0        0   0  "
      ]
     },
     "execution_count": 11,
     "metadata": {},
     "output_type": "execute_result"
    }
   ],
   "source": [
    "df.head()"
   ]
  },
  {
   "cell_type": "code",
   "execution_count": 12,
   "metadata": {},
   "outputs": [
    {
     "name": "stdout",
     "output_type": "stream",
     "text": [
      "Accuracy Rate is: 0.877778\n",
      "[[740  71]\n",
      " [ 39  50]]\n",
      "              precision    recall  f1-score   support\n",
      "\n",
      "           0       0.95      0.91      0.93       811\n",
      "           1       0.41      0.56      0.48        89\n",
      "\n",
      "   micro avg       0.88      0.88      0.88       900\n",
      "   macro avg       0.68      0.74      0.70       900\n",
      "weighted avg       0.90      0.88      0.89       900\n",
      "\n"
     ]
    },
    {
     "name": "stderr",
     "output_type": "stream",
     "text": [
      "/home/keshu/.local/lib/python3.6/site-packages/sklearn/utils/validation.py:761: DataConversionWarning: A column-vector y was passed when a 1d array was expected. Please change the shape of y to (n_samples, ), for example using ravel().\n",
      "  y = column_or_1d(y, warn=True)\n"
     ]
    }
   ],
   "source": [
    "from sklearn.naive_bayes import GaussianNB\n",
    "from sklearn.metrics import classification_report, confusion_matrix, accuracy_score\n",
    "\n",
    "# df=df.drop('id', 1)\n",
    "# df=df.drop('zip', 1)\n",
    "trax = train[['age','expyears','annuinc','famsize','avgspend','edulevel','mortval','security','COD','netbank','CC']]\n",
    "tray = train[['label']]\n",
    "# print(tray)\n",
    "trax = np.array(trax)\n",
    "tray = np.array(tray)\n",
    "\n",
    "clf = GaussianNB()\n",
    "clf.fit(trax,tray )\n",
    "\n",
    "testx = test[['age','expyears','annuinc','famsize','avgspend','edulevel','mortval','security','COD','netbank','CC']]\n",
    "testy = test[['label']]\n",
    "# testx = validate.iloc[:,:-1]\n",
    "# testy = validate.iloc[:,-1]\n",
    "\n",
    "testx = np.array(testx)\n",
    "testy = np.array(testy)\n",
    "\n",
    "predicts = clf.predict(testx)\n",
    "\n",
    "# y = np.array(training_labels)\n",
    "\n",
    "print (\"Accuracy Rate is: %f\" % accuracy_score(testy, predicts))\n",
    "print(confusion_matrix(testy, predicts))  \n",
    "print(classification_report(testy, predicts)) "
   ]
  },
  {
   "cell_type": "code",
   "execution_count": null,
   "metadata": {},
   "outputs": [],
   "source": []
  },
  {
   "cell_type": "code",
   "execution_count": null,
   "metadata": {},
   "outputs": [],
   "source": []
  },
  {
   "cell_type": "code",
   "execution_count": null,
   "metadata": {},
   "outputs": [],
   "source": []
  }
 ],
 "metadata": {
  "kernelspec": {
   "display_name": "Python 3",
   "language": "python",
   "name": "python3"
  },
  "language_info": {
   "codemirror_mode": {
    "name": "ipython",
    "version": 3
   },
   "file_extension": ".py",
   "mimetype": "text/x-python",
   "name": "python",
   "nbconvert_exporter": "python",
   "pygments_lexer": "ipython3",
   "version": "3.6.7"
  }
 },
 "nbformat": 4,
 "nbformat_minor": 2
}

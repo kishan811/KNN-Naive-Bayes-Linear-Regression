{
 "cells": [
  {
   "cell_type": "code",
   "execution_count": 39,
   "metadata": {},
   "outputs": [],
   "source": [
    "import numpy as np  \n",
    "import matplotlib.pyplot as plt  \n",
    "import pandas as pd\n",
    "import csv\n",
    "import random\n",
    "import math\n",
    "import operator\n",
    "import sys"
   ]
  },
  {
   "cell_type": "code",
   "execution_count": 40,
   "metadata": {},
   "outputs": [],
   "source": [
    "df = pd.read_csv('Iris.csv') "
   ]
  },
  {
   "cell_type": "code",
   "execution_count": 41,
   "metadata": {},
   "outputs": [
    {
     "data": {
      "text/html": [
       "<div>\n",
       "<style scoped>\n",
       "    .dataframe tbody tr th:only-of-type {\n",
       "        vertical-align: middle;\n",
       "    }\n",
       "\n",
       "    .dataframe tbody tr th {\n",
       "        vertical-align: top;\n",
       "    }\n",
       "\n",
       "    .dataframe thead th {\n",
       "        text-align: right;\n",
       "    }\n",
       "</style>\n",
       "<table border=\"1\" class=\"dataframe\">\n",
       "  <thead>\n",
       "    <tr style=\"text-align: right;\">\n",
       "      <th></th>\n",
       "      <th>a</th>\n",
       "      <th>b</th>\n",
       "      <th>c</th>\n",
       "      <th>d</th>\n",
       "      <th>label</th>\n",
       "    </tr>\n",
       "  </thead>\n",
       "  <tbody>\n",
       "    <tr>\n",
       "      <th>0</th>\n",
       "      <td>6.3</td>\n",
       "      <td>3.3</td>\n",
       "      <td>6.0</td>\n",
       "      <td>2.5</td>\n",
       "      <td>Iris-virginica</td>\n",
       "    </tr>\n",
       "    <tr>\n",
       "      <th>1</th>\n",
       "      <td>5.0</td>\n",
       "      <td>3.0</td>\n",
       "      <td>1.6</td>\n",
       "      <td>0.2</td>\n",
       "      <td>Iris-setosa</td>\n",
       "    </tr>\n",
       "    <tr>\n",
       "      <th>2</th>\n",
       "      <td>6.2</td>\n",
       "      <td>2.8</td>\n",
       "      <td>4.8</td>\n",
       "      <td>1.8</td>\n",
       "      <td>Iris-virginica</td>\n",
       "    </tr>\n",
       "    <tr>\n",
       "      <th>3</th>\n",
       "      <td>6.4</td>\n",
       "      <td>3.1</td>\n",
       "      <td>5.5</td>\n",
       "      <td>1.8</td>\n",
       "      <td>Iris-virginica</td>\n",
       "    </tr>\n",
       "    <tr>\n",
       "      <th>4</th>\n",
       "      <td>4.9</td>\n",
       "      <td>2.5</td>\n",
       "      <td>4.5</td>\n",
       "      <td>1.7</td>\n",
       "      <td>Iris-virginica</td>\n",
       "    </tr>\n",
       "  </tbody>\n",
       "</table>\n",
       "</div>"
      ],
      "text/plain": [
       "     a    b    c    d           label\n",
       "0  6.3  3.3  6.0  2.5  Iris-virginica\n",
       "1  5.0  3.0  1.6  0.2     Iris-setosa\n",
       "2  6.2  2.8  4.8  1.8  Iris-virginica\n",
       "3  6.4  3.1  5.5  1.8  Iris-virginica\n",
       "4  4.9  2.5  4.5  1.7  Iris-virginica"
      ]
     },
     "execution_count": 41,
     "metadata": {},
     "output_type": "execute_result"
    }
   ],
   "source": [
    "df.columns=['a','b','c','d','label']\n",
    "df.head()"
   ]
  },
  {
   "cell_type": "code",
   "execution_count": 42,
   "metadata": {},
   "outputs": [],
   "source": [
    "X = df.iloc[:, :-1].values  \n",
    "y = df.iloc[:, 4].values  "
   ]
  },
  {
   "cell_type": "code",
   "execution_count": 43,
   "metadata": {},
   "outputs": [
    {
     "name": "stdout",
     "output_type": "stream",
     "text": [
      "['Iris-setosa' 'Iris-versicolor' 'Iris-virginica']\n"
     ]
    }
   ],
   "source": [
    "print(np.unique(y))"
   ]
  },
  {
   "cell_type": "code",
   "execution_count": 44,
   "metadata": {},
   "outputs": [],
   "source": [
    "from sklearn.model_selection import train_test_split  \n",
    "X_train, X_test, y_train, y_test = train_test_split(X, y, test_size=0.2) "
   ]
  },
  {
   "cell_type": "code",
   "execution_count": 45,
   "metadata": {},
   "outputs": [],
   "source": [
    "# X_train.head()"
   ]
  },
  {
   "cell_type": "code",
   "execution_count": 46,
   "metadata": {},
   "outputs": [
    {
     "data": {
      "text/plain": [
       "KNeighborsClassifier(algorithm='auto', leaf_size=30, metric='minkowski',\n",
       "           metric_params=None, n_jobs=None, n_neighbors=25, p=2,\n",
       "           weights='uniform')"
      ]
     },
     "execution_count": 46,
     "metadata": {},
     "output_type": "execute_result"
    }
   ],
   "source": [
    "from sklearn.neighbors import KNeighborsClassifier  \n",
    "classifier = KNeighborsClassifier(n_neighbors=25)  \n",
    "classifier.fit(X_train, y_train) "
   ]
  },
  {
   "cell_type": "code",
   "execution_count": 47,
   "metadata": {},
   "outputs": [],
   "source": [
    "y_pred = classifier.predict(X_test)"
   ]
  },
  {
   "cell_type": "code",
   "execution_count": 48,
   "metadata": {},
   "outputs": [
    {
     "name": "stdout",
     "output_type": "stream",
     "text": [
      "['Iris-versicolor' 'Iris-versicolor' 'Iris-versicolor' 'Iris-virginica'\n",
      " 'Iris-versicolor' 'Iris-versicolor' 'Iris-setosa' 'Iris-versicolor'\n",
      " 'Iris-setosa' 'Iris-setosa' 'Iris-setosa' 'Iris-virginica'\n",
      " 'Iris-versicolor' 'Iris-versicolor' 'Iris-virginica' 'Iris-virginica'\n",
      " 'Iris-setosa' 'Iris-virginica' 'Iris-virginica' 'Iris-virginica'\n",
      " 'Iris-setosa' 'Iris-setosa' 'Iris-versicolor' 'Iris-setosa'\n",
      " 'Iris-virginica' 'Iris-setosa' 'Iris-versicolor']\n"
     ]
    }
   ],
   "source": [
    "print(y_pred)"
   ]
  },
  {
   "cell_type": "code",
   "execution_count": 49,
   "metadata": {},
   "outputs": [],
   "source": [
    "# from sklearn.metrics import classification_report, confusion_matrix, accuracy_score\n",
    "# print(confusion_matrix(y_test, y_pred))  \n",
    "# print(classification_report(y_test, y_pred)) \n",
    "# print(accuracy_score(y_test, y_pred))  "
   ]
  },
  {
   "cell_type": "code",
   "execution_count": 50,
   "metadata": {},
   "outputs": [],
   "source": [
    "def euclidDistance(val1, val2, entirelength):\n",
    "    distance = 0\n",
    "    for x in range(entirelength):\n",
    "        distance += pow((val1[x] - val2[x]), 2)\n",
    "    return math.sqrt(distance)"
   ]
  },
  {
   "cell_type": "code",
   "execution_count": 51,
   "metadata": {},
   "outputs": [],
   "source": [
    "def manhattanDistance(val1, val2, entirelength):\n",
    "    distance = 0\n",
    "    for x in range(entirelength):\n",
    "        distance += abs(val1[x] - val2[x])\n",
    "    return distance"
   ]
  },
  {
   "cell_type": "code",
   "execution_count": 52,
   "metadata": {},
   "outputs": [],
   "source": [
    "def chebyshevDistance(val1, val2, entirelength):\n",
    "    distance = 0\n",
    "    for x in range(entirelength):\n",
    "        distance = max(distance,abs(val1[x] - val2[x]))\n",
    "    return distance"
   ]
  },
  {
   "cell_type": "code",
   "execution_count": 53,
   "metadata": {},
   "outputs": [],
   "source": [
    "def Neighbor_points(train_d, test_d, k):\n",
    "    distances = []\n",
    "    length = len(test_d)-1\n",
    "    for x in range(len(train_d)):\n",
    "        dist = euclidDistance(test_d, train_d[x], length)\n",
    "        distances.append((train_d[x], dist))\n",
    "    distances.sort(key=lambda x: x[1])\n",
    "#     print(distances)\n",
    "    neighbors = []\n",
    "    for x in range(k):\n",
    "        neighbors.append(distances[x][0])\n",
    "#         print(neighbors)\n",
    "    return neighbors"
   ]
  },
  {
   "cell_type": "code",
   "execution_count": 54,
   "metadata": {},
   "outputs": [],
   "source": [
    "def resultss(neighbors):\n",
    "    predlabel = {}\n",
    "    for x in range(len(neighbors)):\n",
    "        res = neighbors[x][-1]\n",
    "        if res not in predlabel:\n",
    "            predlabel[res] = 1\n",
    "        predlabel[res] += 1\n",
    "    ans = sorted(predlabel.items(), reverse=True)\n",
    "    return ans[0][0]"
   ]
  },
  {
   "cell_type": "code",
   "execution_count": 55,
   "metadata": {},
   "outputs": [],
   "source": [
    "def accu_calc(test, predlabel):\n",
    "    correct = 0\n",
    "    for x in range(len(test)):\n",
    "        if test[x][-1] == predlabel[x]:\n",
    "            correct += 1\n",
    "    return (correct/float(len(test))) * 100.0"
   ]
  },
  {
   "cell_type": "markdown",
   "metadata": {},
   "source": [
    "### Euclidean calculations"
   ]
  },
  {
   "cell_type": "code",
   "execution_count": 57,
   "metadata": {},
   "outputs": [
    {
     "name": "stdout",
     "output_type": "stream",
     "text": [
      "       a    b    c    d            label\n",
      "32   5.4  3.4  1.7  0.2      Iris-setosa\n",
      "131  7.2  3.6  6.1  2.5   Iris-virginica\n",
      "70   6.0  2.7  5.1  1.6  Iris-versicolor\n",
      "111  5.0  3.6  1.4  0.2      Iris-setosa\n",
      "52   6.1  2.8  4.7  1.2  Iris-versicolor\n",
      "78   6.4  2.9  4.3  1.3  Iris-versicolor\n",
      "38   7.7  3.0  6.1  2.3   Iris-virginica\n",
      "11   6.8  3.0  5.5  2.1   Iris-virginica\n",
      "10   5.6  2.9  3.6  1.3  Iris-versicolor\n",
      "55   6.2  2.2  4.5  1.5  Iris-versicolor\n",
      "4    4.9  2.5  4.5  1.7   Iris-virginica\n",
      "40   4.7  3.2  1.3  0.2      Iris-setosa\n",
      "116  6.5  3.0  5.2  2.0   Iris-virginica\n",
      "64   5.1  2.5  3.0  1.1  Iris-versicolor\n",
      "50   6.7  3.3  5.7  2.1   Iris-virginica\n",
      "124  5.1  3.5  1.4  0.3      Iris-setosa\n",
      "97   5.7  2.9  4.2  1.3  Iris-versicolor\n",
      "110  4.4  3.0  1.3  0.2      Iris-setosa\n",
      "9    5.0  3.4  1.5  0.2      Iris-setosa\n",
      "30   7.7  2.8  6.7  2.0   Iris-virginica\n",
      "91   7.7  3.8  6.7  2.2   Iris-virginica\n",
      "86   5.1  3.3  1.7  0.5      Iris-setosa\n",
      "15   5.0  3.5  1.6  0.6      Iris-setosa\n",
      "2    6.2  2.8  4.8  1.8   Iris-virginica\n",
      "81   7.4  2.8  6.1  1.9   Iris-virginica\n",
      "42   5.0  2.3  3.3  1.0  Iris-versicolor\n",
      "0    6.3  3.3  6.0  2.5   Iris-virginica\n",
      "90   6.0  3.4  4.5  1.6  Iris-versicolor\n",
      "36   5.4  3.4  1.5  0.4      Iris-setosa\n",
      "45   6.3  3.4  5.6  2.4   Iris-virginica\n",
      "..   ...  ...  ...  ...              ...\n",
      "61   6.9  3.2  5.7  2.3   Iris-virginica\n",
      "59   5.8  2.7  5.1  1.9   Iris-virginica\n",
      "62   7.1  3.0  5.9  2.1   Iris-virginica\n",
      "106  7.6  3.0  6.6  2.1   Iris-virginica\n",
      "27   7.2  3.0  5.8  1.6   Iris-virginica\n",
      "12   5.2  4.1  1.5  0.1      Iris-setosa\n",
      "72   4.8  3.0  1.4  0.1      Iris-setosa\n",
      "24   5.2  3.5  1.5  0.2      Iris-setosa\n",
      "5    5.4  3.9  1.3  0.4      Iris-setosa\n",
      "128  5.9  3.2  4.8  1.8  Iris-versicolor\n",
      "114  6.2  2.9  4.3  1.3  Iris-versicolor\n",
      "7    4.4  2.9  1.4  0.2      Iris-setosa\n",
      "41   5.8  4.0  1.2  0.2      Iris-setosa\n",
      "77   4.9  3.1  1.5  0.1      Iris-setosa\n",
      "57   5.9  3.0  4.2  1.5  Iris-versicolor\n",
      "87   4.9  2.4  3.3  1.0  Iris-versicolor\n",
      "117  4.8  3.0  1.4  0.3      Iris-setosa\n",
      "35   4.7  3.2  1.6  0.2      Iris-setosa\n",
      "132  5.5  2.4  3.8  1.1  Iris-versicolor\n",
      "67   6.0  3.0  4.8  1.8   Iris-virginica\n",
      "19   6.4  2.7  5.3  1.9   Iris-virginica\n",
      "44   5.5  3.5  1.3  0.2      Iris-setosa\n",
      "8    6.0  2.2  5.0  1.5   Iris-virginica\n",
      "51   6.9  3.1  4.9  1.5  Iris-versicolor\n",
      "66   5.8  2.8  5.1  2.4   Iris-virginica\n",
      "109  6.7  3.0  5.0  1.7  Iris-versicolor\n",
      "54   6.7  3.0  5.2  2.3   Iris-virginica\n",
      "130  4.9  3.1  1.5  0.1      Iris-setosa\n",
      "48   6.8  2.8  4.8  1.4  Iris-versicolor\n",
      "122  4.3  3.0  1.1  0.1      Iris-setosa\n",
      "\n",
      "[107 rows x 5 columns]\n",
      "The Accuracy is:  92.5925925925926\n"
     ]
    }
   ],
   "source": [
    "    X = df.iloc[:, :-1].astype(float)  \n",
    "#     print(X)\n",
    "    y = df.iloc[:, 4].values\n",
    "#     print(y)\n",
    "    from sklearn.model_selection import train_test_split  \n",
    "    X_train, X_test, y_train, y_test = train_test_split(X, y, test_size=0.2) \n",
    "    train,test = train_test_split(df, test_size=0.2) \n",
    "#     print(train)\n",
    "#     random.seed(0)\n",
    "    pre_values=[]\n",
    "    k = 5\n",
    "#     fn=sys.argv[1]\n",
    "#     df2=pd.read_csv(fn)\n",
    "#     df.columns=['a','b','c','d','label']\n",
    "#     test=df2\n",
    "#     print(X_test)\n",
    "#     temp=X_test.to_dict('records')\n",
    "#     print (temp[0])\n",
    "    test1=test\n",
    "    train1=train\n",
    "    test=test.values\n",
    "    train=train.values\n",
    "#     test_y=test('label')\n",
    "#     print(len(train))\n",
    "#     print(test)\n",
    "#     for x in range(len(X_test)):\n",
    "#         testSet.append()\n",
    "    for x in range(len(test)):\n",
    "        neighbors = Neighbor_points(train, test[x], k)\n",
    "#         print(neighbors[x][-1])\n",
    "        result = resultss(neighbors)\n",
    "        pre_values.append(result)\n",
    "#         print('> predicted value by algo=' + result + ' and actual value by scikit=' + test[x][-1])\n",
    "    accuracy = accu_calc(test, pre_values)\n",
    "    print ('The Accuracy is: ', accuracy)"
   ]
  },
  {
   "cell_type": "code",
   "execution_count": 21,
   "metadata": {},
   "outputs": [
    {
     "name": "stdout",
     "output_type": "stream",
     "text": [
      "The Accuracy are:  [100.0, 100.0, 96.29629629629629, 96.29629629629629, 96.29629629629629, 96.29629629629629, 96.29629629629629, 96.29629629629629, 96.29629629629629, 92.5925925925926, 92.5925925925926, 92.5925925925926, 92.5925925925926, 88.88888888888889, 85.18518518518519, 85.18518518518519, 85.18518518518519, 85.18518518518519, 85.18518518518519, 85.18518518518519, 85.18518518518519, 85.18518518518519, 81.48148148148148, 81.48148148148148]\n"
     ]
    }
   ],
   "source": [
    "acc=[]\n",
    "for i in range(1, 25):\n",
    "    pre_values=[]\n",
    "    knn = []\n",
    "    result=[]\n",
    "    for x in range(len(test)):\n",
    "        knn = Neighbor_points(train, test[x], i)\n",
    "#         print(knn)\n",
    "        result = resultss(knn)\n",
    "        pre_values.append(result)\n",
    "#         print('> predicted value by algo=' + result + ' and actual value by scikit=' + test[x][-1])\n",
    "    accuracy = accu_calc(test, pre_values)\n",
    "    acc.append(accuracy)\n",
    "# print(acc)\n",
    "print ('The Accuracy are: ', acc)\n",
    "#     print(knn)"
   ]
  },
  {
   "cell_type": "code",
   "execution_count": 22,
   "metadata": {
    "scrolled": true
   },
   "outputs": [
    {
     "data": {
      "text/plain": [
       "Text(0, 0.5, 'Accuracy')"
      ]
     },
     "execution_count": 22,
     "metadata": {},
     "output_type": "execute_result"
    },
    {
     "data": {
      "image/png": "[encoded data removed]",
      "text/plain": [
       "<Figure size 432x288 with 1 Axes>"
      ]
     },
     "metadata": {},
     "output_type": "display_data"
    }
   ],
   "source": [
    "# plt.figure(figsize=(12, 6))  \n",
    "plt.plot(range(1, 25), acc)\n",
    "plt.title('Acc vs K Value')  \n",
    "plt.xlabel('K Value')\n",
    "plt.grid(True)\n",
    "plt.ylabel('Accuracy')  "
   ]
  },
  {
   "cell_type": "markdown",
   "metadata": {},
   "source": [
    "# Part 2\n",
    "### Manhattan calculations"
   ]
  },
  {
   "cell_type": "code",
   "execution_count": 23,
   "metadata": {},
   "outputs": [],
   "source": [
    "def Neighbor_points1(train_d, test_d, k):\n",
    "    distances = []\n",
    "    length = len(test_d)-1\n",
    "    for x in range(len(train_d)):\n",
    "        dist = manhattanDistance(test_d, train_d[x], length)\n",
    "        distances.append((train_d[x], dist))\n",
    "    distances.sort(key=lambda x: x[1])\n",
    "#     print(distances)\n",
    "    neighbors = []\n",
    "    for x in range(k):\n",
    "        neighbors.append(distances[x][0])\n",
    "#         print(neighbors)\n",
    "    return neighbors"
   ]
  },
  {
   "cell_type": "code",
   "execution_count": 24,
   "metadata": {},
   "outputs": [
    {
     "name": "stdout",
     "output_type": "stream",
     "text": [
      "The Accuracy is:  92.5925925925926\n"
     ]
    }
   ],
   "source": [
    "    X = df.iloc[:, :-1].astype(float)  \n",
    "#     print(X)\n",
    "    y = df.iloc[:, 4].values\n",
    "#     print(y)\n",
    "    from sklearn.model_selection import train_test_split  \n",
    "    X_train, X_test, y_train, y_test = train_test_split(X, y, test_size=0.2) \n",
    "#     train,test = train_test_split(df, test_size=0.2) \n",
    "#     random.seed(0)\n",
    "    pre_values=[]\n",
    "    k = 5\n",
    "#     print(X_test)\n",
    "#     temp=X_test.to_dict('records')\n",
    "#     print (temp[0])\n",
    "#     test1=test\n",
    "#     train1=train\n",
    "#     test=test.values\n",
    "#     train=train.values\n",
    "#     test_y=test('label')\n",
    "#     print(len(train))\n",
    "#     print(test)\n",
    "#     for x in range(len(X_test)):\n",
    "#         testSet.append()\n",
    "    for x in range(len(test)):\n",
    "        neighbors = Neighbor_points1(train, test[x], k)\n",
    "#         print(neighbors[x][-1])\n",
    "        result = resultss(neighbors)\n",
    "        pre_values.append(result)\n",
    "#         print('> predicted value by algo=' + result + ' and actual value by scikit=' + test[x][-1])\n",
    "    accuracy = accu_calc(test, pre_values)\n",
    "    print ('The Accuracy is: ', accuracy)"
   ]
  },
  {
   "cell_type": "code",
   "execution_count": 25,
   "metadata": {},
   "outputs": [
    {
     "name": "stdout",
     "output_type": "stream",
     "text": [
      "The Accuracy are:  [96.29629629629629, 96.29629629629629, 96.29629629629629, 96.29629629629629, 92.5925925925926, 92.5925925925926, 92.5925925925926, 92.5925925925926, 92.5925925925926, 92.5925925925926, 92.5925925925926, 92.5925925925926, 92.5925925925926, 92.5925925925926, 92.5925925925926, 92.5925925925926, 92.5925925925926, 92.5925925925926, 92.5925925925926, 85.18518518518519, 85.18518518518519, 85.18518518518519, 85.18518518518519, 77.77777777777779]\n"
     ]
    }
   ],
   "source": [
    "acc=[]\n",
    "for i in range(1, 25):\n",
    "    pre_values=[]\n",
    "    knn = []\n",
    "    result=[]\n",
    "    for x in range(len(test)):\n",
    "        knn = Neighbor_points1(train, test[x], i)\n",
    "#         print(knn)\n",
    "        result = resultss(knn)\n",
    "        pre_values.append(result)\n",
    "#         print('> predicted value by algo=' + result + ' and actual value by scikit=' + test[x][-1])\n",
    "    accuracy = accu_calc(test, pre_values)\n",
    "    acc.append(accuracy)\n",
    "# print(acc)\n",
    "print ('The Accuracy are: ', acc)\n",
    "#     print ('The Accuracy is: ', accuracy)\n",
    "#     print(knn)"
   ]
  },
  {
   "cell_type": "code",
   "execution_count": 26,
   "metadata": {},
   "outputs": [
    {
     "data": {
      "text/plain": [
       "Text(0, 0.5, 'Accuracy')"
      ]
     },
     "execution_count": 26,
     "metadata": {},
     "output_type": "execute_result"
    },
    {
     "data": {
      "image/png": "[encoded data removed]",
      "text/plain": [
       "<Figure size 432x288 with 1 Axes>"
      ]
     },
     "metadata": {},
     "output_type": "display_data"
    }
   ],
   "source": [
    "# plt.figure(figsize=(12, 6))  \n",
    "plt.plot(range(1, 25), acc)\n",
    "plt.title('Acc vs K Value')  \n",
    "plt.xlabel('K Value')\n",
    "plt.grid(True)\n",
    "plt.ylabel('Accuracy')  "
   ]
  },
  {
   "cell_type": "markdown",
   "metadata": {},
   "source": [
    "### Chebyshev calculations"
   ]
  },
  {
   "cell_type": "code",
   "execution_count": 27,
   "metadata": {},
   "outputs": [],
   "source": [
    "def Neighbor_points2(train_d, test_d, k):\n",
    "    distances = []\n",
    "    length = len(test_d)-1\n",
    "    for x in range(len(train_d)):\n",
    "        dist = chebyshevDistance(test_d, train_d[x], length)\n",
    "        distances.append((train_d[x], dist))\n",
    "    distances.sort(key=lambda x: x[1])\n",
    "#     print(distances)\n",
    "    neighbors = []\n",
    "    for x in range(k):\n",
    "        neighbors.append(distances[x][0])\n",
    "#         print(neighbors)\n",
    "    return neighbors\n"
   ]
  },
  {
   "cell_type": "code",
   "execution_count": 28,
   "metadata": {},
   "outputs": [
    {
     "name": "stdout",
     "output_type": "stream",
     "text": [
      "The Accuracy is:  96.29629629629629\n"
     ]
    }
   ],
   "source": [
    "    X = df.iloc[:, :-1].astype(float)  \n",
    "#     print(X)\n",
    "    y = df.iloc[:, 4].values\n",
    "#     print(y)\n",
    "    from sklearn.model_selection import train_test_split  \n",
    "    X_train, X_test, y_train, y_test = train_test_split(X, y, test_size=0.2) \n",
    "#     train,test = train_test_split(df, test_size=0.2) \n",
    "#     random.seed(0)\n",
    "    pre_values=[]\n",
    "    k = 5\n",
    "#     print(X_test)\n",
    "#     temp=X_test.to_dict('records')\n",
    "#     print (temp[0])\n",
    "#     test1=test\n",
    "#     train1=train\n",
    "#     test=test.values\n",
    "#     train=train.values\n",
    "#     test_y=test('label')\n",
    "#     print(len(train))\n",
    "#     print(test)\n",
    "#     for x in range(len(X_test)):\n",
    "#         testSet.append()\n",
    "    for x in range(len(test)):\n",
    "        neighbors = Neighbor_points2(train, test[x], k)\n",
    "#         print(neighbors[x][-1])\n",
    "        result = resultss(neighbors)\n",
    "        pre_values.append(result)\n",
    "#         print('> predicted value by algo=' + result + ' and actual value by scikit=' + test[x][-1])\n",
    "    accuracy = accu_calc(test, pre_values)\n",
    "    print ('The Accuracy is: ', accuracy)"
   ]
  },
  {
   "cell_type": "code",
   "execution_count": 29,
   "metadata": {},
   "outputs": [
    {
     "name": "stdout",
     "output_type": "stream",
     "text": [
      "The Accuracy are:  [100.0, 100.0, 100.0, 96.29629629629629, 96.29629629629629, 96.29629629629629, 96.29629629629629, 92.5925925925926, 88.88888888888889, 88.88888888888889, 88.88888888888889, 88.88888888888889, 88.88888888888889, 88.88888888888889, 88.88888888888889, 88.88888888888889, 85.18518518518519, 85.18518518518519, 81.48148148148148, 77.77777777777779, 77.77777777777779, 77.77777777777779, 77.77777777777779, 77.77777777777779]\n"
     ]
    },
    {
     "data": {
      "text/plain": [
       "Text(0, 0.5, 'Accuracy')"
      ]
     },
     "execution_count": 29,
     "metadata": {},
     "output_type": "execute_result"
    },
    {
     "data": {
      "image/png": "[encoded data removed]",
      "text/plain": [
       "<Figure size 432x288 with 1 Axes>"
      ]
     },
     "metadata": {},
     "output_type": "display_data"
    }
   ],
   "source": [
    "acc=[]\n",
    "for i in range(1, 25):\n",
    "    pre_values=[]\n",
    "    knn = []\n",
    "    result=[]\n",
    "    for x in range(len(test)):\n",
    "        knn = Neighbor_points2(train, test[x], i)\n",
    "#         print(knn)\n",
    "        result = resultss(knn)\n",
    "        pre_values.append(result)\n",
    "#         print('> predicted value by algo=' + result + ' and actual value by scikit=' + test[x][-1])\n",
    "    accuracy = accu_calc(test, pre_values)\n",
    "    acc.append(accuracy)\n",
    "\n",
    "print ('The Accuracy are: ', acc)\n",
    "# print(acc)\n",
    "#     print ('The Accuracy is: ', accuracy)\n",
    "#     print(knn)\n",
    "\n",
    "# plt.figure(figsize=(12, 6))  \n",
    "plt.plot(range(1, 25), acc)\n",
    "plt.title('Acc vs K Value')  \n",
    "plt.xlabel('K Value')\n",
    "plt.grid(True)\n",
    "plt.ylabel('Accuracy')  "
   ]
  },
  {
   "cell_type": "code",
   "execution_count": 30,
   "metadata": {},
   "outputs": [
    {
     "data": {
      "text/html": [
       "<div>\n",
       "<style scoped>\n",
       "    .dataframe tbody tr th:only-of-type {\n",
       "        vertical-align: middle;\n",
       "    }\n",
       "\n",
       "    .dataframe tbody tr th {\n",
       "        vertical-align: top;\n",
       "    }\n",
       "\n",
       "    .dataframe thead th {\n",
       "        text-align: right;\n",
       "    }\n",
       "</style>\n",
       "<table border=\"1\" class=\"dataframe\">\n",
       "  <thead>\n",
       "    <tr style=\"text-align: right;\">\n",
       "      <th></th>\n",
       "      <th>a</th>\n",
       "      <th>b</th>\n",
       "      <th>c</th>\n",
       "      <th>d</th>\n",
       "      <th>label</th>\n",
       "    </tr>\n",
       "  </thead>\n",
       "  <tbody>\n",
       "    <tr>\n",
       "      <th>132</th>\n",
       "      <td>5.5</td>\n",
       "      <td>2.4</td>\n",
       "      <td>3.8</td>\n",
       "      <td>1.1</td>\n",
       "      <td>Iris-versicolor</td>\n",
       "    </tr>\n",
       "    <tr>\n",
       "      <th>12</th>\n",
       "      <td>5.2</td>\n",
       "      <td>4.1</td>\n",
       "      <td>1.5</td>\n",
       "      <td>0.1</td>\n",
       "      <td>Iris-setosa</td>\n",
       "    </tr>\n",
       "    <tr>\n",
       "      <th>98</th>\n",
       "      <td>5.5</td>\n",
       "      <td>2.5</td>\n",
       "      <td>4.0</td>\n",
       "      <td>1.3</td>\n",
       "      <td>Iris-versicolor</td>\n",
       "    </tr>\n",
       "    <tr>\n",
       "      <th>13</th>\n",
       "      <td>5.4</td>\n",
       "      <td>3.9</td>\n",
       "      <td>1.7</td>\n",
       "      <td>0.4</td>\n",
       "      <td>Iris-setosa</td>\n",
       "    </tr>\n",
       "    <tr>\n",
       "      <th>122</th>\n",
       "      <td>4.3</td>\n",
       "      <td>3.0</td>\n",
       "      <td>1.1</td>\n",
       "      <td>0.1</td>\n",
       "      <td>Iris-setosa</td>\n",
       "    </tr>\n",
       "  </tbody>\n",
       "</table>\n",
       "</div>"
      ],
      "text/plain": [
       "       a    b    c    d            label\n",
       "132  5.5  2.4  3.8  1.1  Iris-versicolor\n",
       "12   5.2  4.1  1.5  0.1      Iris-setosa\n",
       "98   5.5  2.5  4.0  1.3  Iris-versicolor\n",
       "13   5.4  3.9  1.7  0.4      Iris-setosa\n",
       "122  4.3  3.0  1.1  0.1      Iris-setosa"
      ]
     },
     "execution_count": 30,
     "metadata": {},
     "output_type": "execute_result"
    }
   ],
   "source": [
    "train1.head()"
   ]
  },
  {
   "cell_type": "code",
   "execution_count": 31,
   "metadata": {},
   "outputs": [],
   "source": [
    "y_train=train1.pop('label')\n",
    "X_train=train1\n",
    "y_test=test1.pop('label')\n",
    "X_test=test1"
   ]
  },
  {
   "cell_type": "markdown",
   "metadata": {},
   "source": [
    "### Accuracy using SKlearn"
   ]
  },
  {
   "cell_type": "code",
   "execution_count": 32,
   "metadata": {},
   "outputs": [
    {
     "name": "stdout",
     "output_type": "stream",
     "text": [
      "[[11  0  0]\n",
      " [ 0  8  0]\n",
      " [ 0  0  8]]\n",
      "                 precision    recall  f1-score   support\n",
      "\n",
      "    Iris-setosa       1.00      1.00      1.00        11\n",
      "Iris-versicolor       1.00      1.00      1.00         8\n",
      " Iris-virginica       1.00      1.00      1.00         8\n",
      "\n",
      "      micro avg       1.00      1.00      1.00        27\n",
      "      macro avg       1.00      1.00      1.00        27\n",
      "   weighted avg       1.00      1.00      1.00        27\n",
      "\n",
      "1.0\n"
     ]
    }
   ],
   "source": [
    "# y_train=X_train.pop('label')\n",
    "# print(X_train.head())\n",
    "from sklearn.neighbors import KNeighborsClassifier  \n",
    "classifier = KNeighborsClassifier(n_neighbors=5)  \n",
    "classifier.fit(X_train, y_train)\n",
    "y_pred = classifier.predict(X_test)\n",
    "from sklearn.metrics import classification_report, confusion_matrix, accuracy_score\n",
    "print(confusion_matrix(y_test, y_pred))  \n",
    "print(classification_report(y_test, y_pred)) \n",
    "print(accuracy_score(y_test, y_pred))  "
   ]
  },
  {
   "cell_type": "code",
   "execution_count": null,
   "metadata": {},
   "outputs": [],
   "source": []
  },
  {
   "cell_type": "code",
   "execution_count": null,
   "metadata": {},
   "outputs": [],
   "source": []
  }
 ],
 "metadata": {
  "kernelspec": {
   "display_name": "Python 3",
   "language": "python",
   "name": "python3"
  },
  "language_info": {
   "codemirror_mode": {
    "name": "ipython",
    "version": 3
   },
   "file_extension": ".py",
   "mimetype": "text/x-python",
   "name": "python",
   "nbconvert_exporter": "python",
   "pygments_lexer": "ipython3",
   "version": "3.6.7"
  }
 },
 "nbformat": 4,
 "nbformat_minor": 2
}
